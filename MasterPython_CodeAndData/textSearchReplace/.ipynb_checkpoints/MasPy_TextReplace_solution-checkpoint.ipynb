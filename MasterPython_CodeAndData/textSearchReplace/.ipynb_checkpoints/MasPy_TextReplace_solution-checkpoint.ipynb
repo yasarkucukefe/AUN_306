{
 "cells": [
  {
   "cell_type": "markdown",
   "metadata": {
    "colab_type": "text",
    "id": "bhWV8oes-wKR"
   },
   "source": [
    "# COURSE: Master Python for scientific programming by solving projects\n",
    "## PROJECT: Text search and replace\n",
    "#### TEACHER: Mike X Cohen, sincxpress.com\n",
    "##### COURSE URL: udemy.com/course/maspy_x/?couponCode=202010"
   ]
  },
  {
   "cell_type": "code",
   "execution_count": null,
   "metadata": {
    "colab": {},
    "colab_type": "code",
    "id": "JL_0UKJOj1YP"
   },
   "outputs": [],
   "source": [
    "# import all necessary modules\n",
    "# from google.colab import files\n",
    "import re\n",
    "import string\n",
    "import numpy as np"
   ]
  },
  {
   "cell_type": "markdown",
   "metadata": {
    "colab_type": "text",
    "id": "dqmU7gnmbu8L"
   },
   "source": [
    "# Import a text file"
   ]
  },
  {
   "cell_type": "code",
   "execution_count": null,
   "metadata": {
    "colab": {},
    "colab_type": "code",
    "id": "82RcRrWTcNa8"
   },
   "outputs": [],
   "source": [
    "file = files.upload()\n"
   ]
  },
  {
   "cell_type": "code",
   "execution_count": null,
   "metadata": {},
   "outputs": [],
   "source": [
    "# Note: use the code below if you are not using google-colabs\n",
    "file = dict()\n",
    "file['captions_text.vtt'] = open('captions_text.vtt','r').read()"
   ]
  },
  {
   "cell_type": "code",
   "execution_count": null,
   "metadata": {
    "colab": {},
    "colab_type": "code",
    "id": "yl9WcPCUc_Pr"
   },
   "outputs": [],
   "source": [
    "# extract just the text and have a look at it\n",
    "print(type(file))\n",
    "print(len(file))\n",
    "\n",
    "file.keys()"
   ]
  },
  {
   "cell_type": "code",
   "execution_count": null,
   "metadata": {
    "colab": {},
    "colab_type": "code",
    "id": "z7jPTXCniDnM"
   },
   "outputs": [],
   "source": [
    "key = list(file.keys())\n",
    "text = str( file[key[0]] )\n",
    "\n",
    "str(text)"
   ]
  },
  {
   "cell_type": "markdown",
   "metadata": {
    "colab_type": "text",
    "id": "0pGZgggkiHXs"
   },
   "source": [
    "# Remove formatting text"
   ]
  },
  {
   "cell_type": "code",
   "execution_count": null,
   "metadata": {
    "colab": {},
    "colab_type": "code",
    "id": "IPwVS7KNl791"
   },
   "outputs": [],
   "source": [
    "# quick intro to matching with regex\n",
    "sentence = \"Hi, my name is Mike and I like to eat Mike's purple chocolate.\"\n",
    "\n",
    "regex_name = re.compile('Mike')\n",
    "regex_name.findall(sentence)"
   ]
  },
  {
   "cell_type": "code",
   "execution_count": null,
   "metadata": {
    "colab": {},
    "colab_type": "code",
    "id": "EDOWrWczmcMB"
   },
   "outputs": [],
   "source": [
    "# substitution\n",
    "regex_name.sub('Mike X',sentence)\n",
    "\n",
    "# names = ['Adam','Bob','Carlos']\n",
    "# for name in names:\n",
    "#   print(regex_name.sub(name,sentence))"
   ]
  },
  {
   "cell_type": "code",
   "execution_count": null,
   "metadata": {
    "colab": {},
    "colab_type": "code",
    "id": "3Z9IjJ-Bmpua"
   },
   "outputs": [],
   "source": [
    "# searching with wildcards\n",
    "sentence = \"Hi, my name is Mike and I like to eat Muke's purple chocolate.\"\n",
    "\n",
    "regex_name = re.compile(r'M\\wke')\n",
    "regex_name.findall(sentence)"
   ]
  },
  {
   "cell_type": "code",
   "execution_count": null,
   "metadata": {
    "colab": {},
    "colab_type": "code",
    "id": "c9MlwfgAdwT5"
   },
   "outputs": [],
   "source": [
    "# character strings to replace with space\n",
    "'\\n\\n?\\n??:??.??? --> ??:??.??\\n'\n",
    "\n",
    "pattern2replace = r'\\\\n\\\\n\\d\\\\n\\d\\d:\\d\\d.\\d\\d\\d --> \\d\\d:\\d\\d.\\d\\d\\d\\\\n'\n",
    "\n",
    "# regex_timestamps = re.compile('the')\n",
    "regex_timestamps = re.compile('%s'%pattern2replace)\n",
    "regex_timestamps.findall(text)\n"
   ]
  },
  {
   "cell_type": "code",
   "execution_count": null,
   "metadata": {
    "colab": {},
    "colab_type": "code",
    "id": "t-JBb5ZIp2bW"
   },
   "outputs": [],
   "source": [
    "# let's see if it works!\n",
    "\n",
    "regex_timestamps.sub(' ',text)"
   ]
  },
  {
   "cell_type": "code",
   "execution_count": null,
   "metadata": {
    "colab": {},
    "colab_type": "code",
    "id": "7zjfFlxyp-zk"
   },
   "outputs": [],
   "source": [
    "# optional repeats of the number\n",
    "pattern2replace = r'\\\\n\\\\n\\d{1,3}\\\\n\\d\\d:\\d\\d.\\d\\d\\d --> \\d\\d:\\d\\d.\\d\\d\\d\\\\n'\n",
    "\n",
    "regex_timestamps = re.compile('%s'%pattern2replace)\n",
    "regex_timestamps.findall(text)\n",
    "\n",
    "newtext = regex_timestamps.sub(' ',text)"
   ]
  },
  {
   "cell_type": "code",
   "execution_count": null,
   "metadata": {
    "colab": {},
    "colab_type": "code",
    "id": "ESg7tsK9fBde"
   },
   "outputs": [],
   "source": [
    "print(newtext)\n",
    "newtext = newtext[9:-2]\n",
    "print(' ')\n",
    "print(newtext)"
   ]
  },
  {
   "cell_type": "code",
   "execution_count": null,
   "metadata": {
    "colab": {},
    "colab_type": "code",
    "id": "eicYTOb1-svq"
   },
   "outputs": [],
   "source": [
    "newtext"
   ]
  },
  {
   "cell_type": "markdown",
   "metadata": {
    "colab_type": "text",
    "id": "UnWVkgjNAS0W"
   },
   "source": [
    "# Replace 4-letter words and save to disk"
   ]
  },
  {
   "cell_type": "code",
   "execution_count": null,
   "metadata": {
    "colab": {},
    "colab_type": "code",
    "id": "XYk7QPxjr7qy"
   },
   "outputs": [],
   "source": [
    "# convert to words\n",
    "words = newtext.split()\n",
    "\n",
    "print(type(words))\n",
    "print(len(words))\n",
    "words[:30]"
   ]
  },
  {
   "cell_type": "code",
   "execution_count": null,
   "metadata": {
    "colab": {},
    "colab_type": "code",
    "id": "1AroQEgXgtYl"
   },
   "outputs": [],
   "source": [
    "# count the number of letters in each word\n",
    "\n",
    "for wordi in range(len(words)):\n",
    "  if len(words[wordi])==4:\n",
    "    words[wordi] = words[wordi][0] + '***'\n",
    "\n",
    "words"
   ]
  },
  {
   "cell_type": "code",
   "execution_count": null,
   "metadata": {
    "colab": {},
    "colab_type": "code",
    "id": "Xngzuvi2jLIm"
   },
   "outputs": [],
   "source": [
    "# put back together into one string\n",
    "\n",
    "cleantext = ' '.join(words)\n",
    "\n",
    "cleantext"
   ]
  },
  {
   "cell_type": "code",
   "execution_count": null,
   "metadata": {
    "colab": {},
    "colab_type": "code",
    "id": "4iFSa-pqjn6G"
   },
   "outputs": [],
   "source": [
    "# Save back to disk\n",
    "with open('clean_transcript.txt','w') as f:\n",
    "  f.write(cleantext)\n",
    "\n",
    "files.download('clean_transcript.txt')"
   ]
  },
  {
   "cell_type": "markdown",
   "metadata": {
    "colab_type": "text",
    "id": "cEYUxH2OAizE"
   },
   "source": [
    "# Bonus: Readability of scrambled words"
   ]
  },
  {
   "cell_type": "code",
   "execution_count": null,
   "metadata": {
    "colab": {},
    "colab_type": "code",
    "id": "FyqGIL85mAW8"
   },
   "outputs": [],
   "source": [
    "# A sentence\n",
    "text = \"I have often wondered whether it's possible to read an entire book faster if the useless letters were removed.\"\n"
   ]
  },
  {
   "cell_type": "code",
   "execution_count": null,
   "metadata": {
    "colab": {},
    "colab_type": "code",
    "id": "f1hfXeOFnbXw"
   },
   "outputs": [],
   "source": [
    "# randomly scramble all letters\n",
    "words = text.split()\n",
    "words"
   ]
  },
  {
   "cell_type": "code",
   "execution_count": null,
   "metadata": {
    "colab": {},
    "colab_type": "code",
    "id": "ILrxpFoAxpb3"
   },
   "outputs": [],
   "source": [
    "for wi in range(len(words)):\n",
    "  thisword = words[wi]\n",
    "  idx = np.random.permutation(len(thisword))\n",
    "  words[wi] = ''.join([thisword[i] for i in idx])\n"
   ]
  },
  {
   "cell_type": "code",
   "execution_count": null,
   "metadata": {
    "colab": {},
    "colab_type": "code",
    "id": "oEN_KfqvyJGe"
   },
   "outputs": [],
   "source": [
    "' '.join(words)"
   ]
  },
  {
   "cell_type": "code",
   "execution_count": null,
   "metadata": {
    "colab": {},
    "colab_type": "code",
    "id": "kf1qIVsppfJz"
   },
   "outputs": [],
   "source": [
    "# scramble all letters except first and last (only words with >3 letters)\n",
    "\n",
    "# recover original\n",
    "words = text.split()\n",
    "\n",
    "# try again\n",
    "for wi in range(len(words)):\n",
    "  \n",
    "  # skip if too short\n",
    "  if len(words[wi])<4:\n",
    "    continue\n",
    "\n",
    "  # extract subword\n",
    "  thisword = words[wi][1:-1]\n",
    "  idx = np.random.permutation(len(thisword))\n",
    "  words[wi] = words[wi][0] + ''.join([thisword[i] for i in idx]) + words[wi][-1]\n",
    "\n",
    "' '.join(words)"
   ]
  },
  {
   "cell_type": "code",
   "execution_count": null,
   "metadata": {
    "colab": {},
    "colab_type": "code",
    "id": "USGdCKm3xUZo"
   },
   "outputs": [],
   "source": [
    "# replace with random letters\n",
    "\n",
    "# all letters\n",
    "allletters = string.ascii_lowercase\n",
    "\n",
    "# recover original\n",
    "words = text.split()\n",
    "\n",
    "# try again\n",
    "for wi in range(len(words)):\n",
    "  \n",
    "  # skip if too short\n",
    "  if len(words[wi])<4:\n",
    "    continue\n",
    "\n",
    "  # extract subword\n",
    "  thisword = words[wi][1:-1]\n",
    "  idx = np.random.randint(0,high=len(allletters),size=len(thisword))\n",
    "  words[wi] = words[wi][0] + ''.join([allletters[i] for i in idx]) + words[wi][-1]\n",
    "\n",
    "' '.join(words)"
   ]
  }
 ],
 "metadata": {
  "colab": {
   "authorship_tag": "ABX9TyN9gAXYc0Q1nwxVRhbU7+3f",
   "collapsed_sections": [],
   "name": "MasPy_TextReplace_solution.ipynb",
   "provenance": [
    {
     "file_id": "1U4oG0A3DFC-XBWhvecYeA3YYReqHpShX",
     "timestamp": 1593323391700
    }
   ]
  },
  "kernelspec": {
   "display_name": "Python 3",
   "language": "python",
   "name": "python3"
  },
  "language_info": {
   "codemirror_mode": {
    "name": "ipython",
    "version": 3
   },
   "file_extension": ".py",
   "mimetype": "text/x-python",
   "name": "python",
   "nbconvert_exporter": "python",
   "pygments_lexer": "ipython3",
   "version": "3.7.3"
  }
 },
 "nbformat": 4,
 "nbformat_minor": 1
}
